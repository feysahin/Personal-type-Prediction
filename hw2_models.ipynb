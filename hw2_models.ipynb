{
 "cells": [
  {
   "cell_type": "code",
   "execution_count": 1,
   "metadata": {},
   "outputs": [
    {
     "name": "stderr",
     "output_type": "stream",
     "text": [
      "C:\\Users\\asus\\anaconda3\\lib\\site-packages\\requests\\__init__.py:89: RequestsDependencyWarning: urllib3 (1.26.9) or chardet (3.0.4) doesn't match a supported version!\n",
      "  warnings.warn(\"urllib3 ({}) or chardet ({}) doesn't match a supported \"\n"
     ]
    }
   ],
   "source": [
    "import pandas as pd\n",
    "import numpy as np\n",
    "from sklearn.preprocessing import LabelEncoder, StandardScaler, MinMaxScaler\n",
    "from sklearn.model_selection import train_test_split\n",
    "from sklearn.linear_model import LogisticRegression, SGDClassifier\n",
    "from sklearn.naive_bayes import GaussianNB\n",
    "from sklearn.neighbors import KNeighborsClassifier\n",
    "from sklearn.pipeline import make_pipeline\n",
    "from sklearn.svm import SVC\n",
    "from sklearn.metrics import confusion_matrix, classification_report, accuracy_score, precision_score, recall_score, f1_score\n",
    "import seaborn as sns\n",
    "import matplotlib.pyplot as plt\n",
    "import tensorflow as tf\n",
    "import warnings\n",
    "from sklearn.model_selection import cross_val_score\n",
    "from sklearn.utils import class_weight\n",
    "from matplotlib import pyplot\n",
    "from sklearn.feature_selection import SelectKBest\n",
    "from sklearn.feature_selection import chi2\n",
    "warnings.filterwarnings('ignore', 'Solver terminated early.*')"
   ]
  },
  {
   "cell_type": "code",
   "execution_count": 2,
   "metadata": {},
   "outputs": [
    {
     "data": {
      "text/html": [
       "<div>\n",
       "<style scoped>\n",
       "    .dataframe tbody tr th:only-of-type {\n",
       "        vertical-align: middle;\n",
       "    }\n",
       "\n",
       "    .dataframe tbody tr th {\n",
       "        vertical-align: top;\n",
       "    }\n",
       "\n",
       "    .dataframe thead th {\n",
       "        text-align: right;\n",
       "    }\n",
       "</style>\n",
       "<table border=\"1\" class=\"dataframe\">\n",
       "  <thead>\n",
       "    <tr style=\"text-align: right;\">\n",
       "      <th></th>\n",
       "      <th>Unnamed: 0</th>\n",
       "      <th>gender</th>\n",
       "      <th>age</th>\n",
       "      <th>openness</th>\n",
       "      <th>responsibility</th>\n",
       "      <th>neuroticism</th>\n",
       "      <th>honesty</th>\n",
       "      <th>compatibility</th>\n",
       "      <th>extraversion</th>\n",
       "      <th>regularity</th>\n",
       "      <th>patience</th>\n",
       "      <th>element</th>\n",
       "      <th>personality</th>\n",
       "    </tr>\n",
       "  </thead>\n",
       "  <tbody>\n",
       "    <tr>\n",
       "      <th>0</th>\n",
       "      <td>0</td>\n",
       "      <td>1</td>\n",
       "      <td>22</td>\n",
       "      <td>4</td>\n",
       "      <td>6</td>\n",
       "      <td>2</td>\n",
       "      <td>6</td>\n",
       "      <td>5</td>\n",
       "      <td>5</td>\n",
       "      <td>6</td>\n",
       "      <td>6</td>\n",
       "      <td>3</td>\n",
       "      <td>4</td>\n",
       "    </tr>\n",
       "    <tr>\n",
       "      <th>1</th>\n",
       "      <td>1</td>\n",
       "      <td>0</td>\n",
       "      <td>23</td>\n",
       "      <td>5</td>\n",
       "      <td>5</td>\n",
       "      <td>3</td>\n",
       "      <td>6</td>\n",
       "      <td>6</td>\n",
       "      <td>5</td>\n",
       "      <td>4</td>\n",
       "      <td>4</td>\n",
       "      <td>0</td>\n",
       "      <td>2</td>\n",
       "    </tr>\n",
       "    <tr>\n",
       "      <th>2</th>\n",
       "      <td>2</td>\n",
       "      <td>0</td>\n",
       "      <td>25</td>\n",
       "      <td>6</td>\n",
       "      <td>4</td>\n",
       "      <td>4</td>\n",
       "      <td>5</td>\n",
       "      <td>6</td>\n",
       "      <td>6</td>\n",
       "      <td>3</td>\n",
       "      <td>3</td>\n",
       "      <td>1</td>\n",
       "      <td>3</td>\n",
       "    </tr>\n",
       "    <tr>\n",
       "      <th>3</th>\n",
       "      <td>3</td>\n",
       "      <td>1</td>\n",
       "      <td>21</td>\n",
       "      <td>4</td>\n",
       "      <td>6</td>\n",
       "      <td>2</td>\n",
       "      <td>5</td>\n",
       "      <td>6</td>\n",
       "      <td>5</td>\n",
       "      <td>4</td>\n",
       "      <td>3</td>\n",
       "      <td>2</td>\n",
       "      <td>1</td>\n",
       "    </tr>\n",
       "    <tr>\n",
       "      <th>4</th>\n",
       "      <td>4</td>\n",
       "      <td>1</td>\n",
       "      <td>21</td>\n",
       "      <td>4</td>\n",
       "      <td>5</td>\n",
       "      <td>6</td>\n",
       "      <td>5</td>\n",
       "      <td>6</td>\n",
       "      <td>5</td>\n",
       "      <td>5</td>\n",
       "      <td>4</td>\n",
       "      <td>3</td>\n",
       "      <td>0</td>\n",
       "    </tr>\n",
       "  </tbody>\n",
       "</table>\n",
       "</div>"
      ],
      "text/plain": [
       "   Unnamed: 0  gender  age  openness  responsibility  neuroticism  honesty  \\\n",
       "0           0       1   22         4               6            2        6   \n",
       "1           1       0   23         5               5            3        6   \n",
       "2           2       0   25         6               4            4        5   \n",
       "3           3       1   21         4               6            2        5   \n",
       "4           4       1   21         4               5            6        5   \n",
       "\n",
       "   compatibility  extraversion  regularity  patience  element  personality  \n",
       "0              5             5           6         6        3            4  \n",
       "1              6             5           4         4        0            2  \n",
       "2              6             6           3         3        1            3  \n",
       "3              6             5           4         3        2            1  \n",
       "4              6             5           5         4        3            0  "
      ]
     },
     "execution_count": 2,
     "metadata": {},
     "output_type": "execute_result"
    }
   ],
   "source": [
    "df = pd.read_csv('preprocessed_data.csv', sep='\\t')\n",
    "df.head()"
   ]
  },
  {
   "cell_type": "code",
   "execution_count": 3,
   "metadata": {},
   "outputs": [
    {
     "data": {
      "text/html": [
       "<div>\n",
       "<style scoped>\n",
       "    .dataframe tbody tr th:only-of-type {\n",
       "        vertical-align: middle;\n",
       "    }\n",
       "\n",
       "    .dataframe tbody tr th {\n",
       "        vertical-align: top;\n",
       "    }\n",
       "\n",
       "    .dataframe thead th {\n",
       "        text-align: right;\n",
       "    }\n",
       "</style>\n",
       "<table border=\"1\" class=\"dataframe\">\n",
       "  <thead>\n",
       "    <tr style=\"text-align: right;\">\n",
       "      <th></th>\n",
       "      <th>gender</th>\n",
       "      <th>age</th>\n",
       "      <th>openness</th>\n",
       "      <th>responsibility</th>\n",
       "      <th>neuroticism</th>\n",
       "      <th>honesty</th>\n",
       "      <th>compatibility</th>\n",
       "      <th>extraversion</th>\n",
       "      <th>regularity</th>\n",
       "      <th>patience</th>\n",
       "      <th>element</th>\n",
       "      <th>personality</th>\n",
       "    </tr>\n",
       "  </thead>\n",
       "  <tbody>\n",
       "    <tr>\n",
       "      <th>0</th>\n",
       "      <td>1</td>\n",
       "      <td>22</td>\n",
       "      <td>4</td>\n",
       "      <td>6</td>\n",
       "      <td>2</td>\n",
       "      <td>6</td>\n",
       "      <td>5</td>\n",
       "      <td>5</td>\n",
       "      <td>6</td>\n",
       "      <td>6</td>\n",
       "      <td>3</td>\n",
       "      <td>4</td>\n",
       "    </tr>\n",
       "    <tr>\n",
       "      <th>1</th>\n",
       "      <td>0</td>\n",
       "      <td>23</td>\n",
       "      <td>5</td>\n",
       "      <td>5</td>\n",
       "      <td>3</td>\n",
       "      <td>6</td>\n",
       "      <td>6</td>\n",
       "      <td>5</td>\n",
       "      <td>4</td>\n",
       "      <td>4</td>\n",
       "      <td>0</td>\n",
       "      <td>2</td>\n",
       "    </tr>\n",
       "    <tr>\n",
       "      <th>2</th>\n",
       "      <td>0</td>\n",
       "      <td>25</td>\n",
       "      <td>6</td>\n",
       "      <td>4</td>\n",
       "      <td>4</td>\n",
       "      <td>5</td>\n",
       "      <td>6</td>\n",
       "      <td>6</td>\n",
       "      <td>3</td>\n",
       "      <td>3</td>\n",
       "      <td>1</td>\n",
       "      <td>3</td>\n",
       "    </tr>\n",
       "    <tr>\n",
       "      <th>3</th>\n",
       "      <td>1</td>\n",
       "      <td>21</td>\n",
       "      <td>4</td>\n",
       "      <td>6</td>\n",
       "      <td>2</td>\n",
       "      <td>5</td>\n",
       "      <td>6</td>\n",
       "      <td>5</td>\n",
       "      <td>4</td>\n",
       "      <td>3</td>\n",
       "      <td>2</td>\n",
       "      <td>1</td>\n",
       "    </tr>\n",
       "    <tr>\n",
       "      <th>4</th>\n",
       "      <td>1</td>\n",
       "      <td>21</td>\n",
       "      <td>4</td>\n",
       "      <td>5</td>\n",
       "      <td>6</td>\n",
       "      <td>5</td>\n",
       "      <td>6</td>\n",
       "      <td>5</td>\n",
       "      <td>5</td>\n",
       "      <td>4</td>\n",
       "      <td>3</td>\n",
       "      <td>0</td>\n",
       "    </tr>\n",
       "  </tbody>\n",
       "</table>\n",
       "</div>"
      ],
      "text/plain": [
       "   gender  age  openness  responsibility  neuroticism  honesty  compatibility  \\\n",
       "0       1   22         4               6            2        6              5   \n",
       "1       0   23         5               5            3        6              6   \n",
       "2       0   25         6               4            4        5              6   \n",
       "3       1   21         4               6            2        5              6   \n",
       "4       1   21         4               5            6        5              6   \n",
       "\n",
       "   extraversion  regularity  patience  element  personality  \n",
       "0             5           6         6        3            4  \n",
       "1             5           4         4        0            2  \n",
       "2             6           3         3        1            3  \n",
       "3             5           4         3        2            1  \n",
       "4             5           5         4        3            0  "
      ]
     },
     "execution_count": 3,
     "metadata": {},
     "output_type": "execute_result"
    }
   ],
   "source": [
    "df.drop(\"Unnamed: 0\", axis=1, inplace=True)\n",
    "df.head()"
   ]
  },
  {
   "cell_type": "code",
   "execution_count": null,
   "metadata": {},
   "outputs": [],
   "source": [
    "# Feature Selection\n",
    "\n",
    "X_new = SelectKBest(chi2, k=3).fit_transform(df[df.columns[:-1]], df['personality'])\n",
    "\n",
    "# train-test splitting\n",
    "X_train, X_test, y_train, y_test = train_test_split(X_new, df['personality'], test_size=0.2, random_state=42)\n",
    "\n",
    "X_new.shape"
   ]
  },
  {
   "cell_type": "code",
   "execution_count": 4,
   "metadata": {},
   "outputs": [
    {
     "name": "stdout",
     "output_type": "stream",
     "text": [
      "216\n",
      "55\n"
     ]
    }
   ],
   "source": [
    "# train-test splitting\n",
    "X_train, X_test, y_train, y_test = train_test_split(df[df.columns[:-1]], df['personality'], test_size=0.2, random_state=42)\n",
    "\n",
    "print(len(X_train))\n",
    "print(len(X_test))"
   ]
  },
  {
   "cell_type": "code",
   "execution_count": 56,
   "metadata": {},
   "outputs": [],
   "source": [
    "best_scores = {}"
   ]
  },
  {
   "cell_type": "markdown",
   "metadata": {},
   "source": [
    "# MODELS"
   ]
  },
  {
   "cell_type": "markdown",
   "metadata": {},
   "source": [
    "## 1- Logistic Regression"
   ]
  },
  {
   "cell_type": "code",
   "execution_count": 57,
   "metadata": {},
   "outputs": [
    {
     "name": "stdout",
     "output_type": "stream",
     "text": [
      "Precision: 0.5029\n",
      "Recall: 0.3318\n",
      "Accuracy: 0.4909\n",
      "F1 Score: 0.3559\n",
      "              precision    recall  f1-score   support\n",
      "\n",
      "           0       0.33      0.14      0.20         7\n",
      "           1       0.50      0.33      0.40         6\n",
      "           2       0.54      0.81      0.65        26\n",
      "           3       0.14      0.12      0.13         8\n",
      "           4       1.00      0.25      0.40         8\n",
      "\n",
      "    accuracy                           0.49        55\n",
      "   macro avg       0.50      0.33      0.36        55\n",
      "weighted avg       0.52      0.49      0.45        55\n",
      "\n"
     ]
    },
    {
     "data": {
      "image/png": "[encoded data removed]",
      "text/plain": [
       "<Figure size 432x288 with 2 Axes>"
      ]
     },
     "metadata": {
      "needs_background": "light"
     },
     "output_type": "display_data"
    },
    {
     "data": {
      "text/plain": [
       "[0.47619047619047616,\n",
       " 0.5,\n",
       " 0.5238095238095238,\n",
       " 0.5454545454545454,\n",
       " 0.5454545454545454,\n",
       " 0.5454545454545454,\n",
       " 0.5909090909090909,\n",
       " 0.6666666666666666,\n",
       " 0.7142857142857143,\n",
       " 0.7272727272727273]"
      ]
     },
     "execution_count": 57,
     "metadata": {},
     "output_type": "execute_result"
    }
   ],
   "source": [
    "#logreg = LogisticRegression(max_iter=1000).fit(X_train, y_train)\n",
    "logreg = make_pipeline(StandardScaler(), LogisticRegression(max_iter=1000)).fit(X_train, y_train)\n",
    "\n",
    "y_pred = logreg.predict(X_test)\n",
    "\n",
    "print('Precision: %.4f' % precision_score(y_test, y_pred, average='macro'))\n",
    "print('Recall: %.4f' % recall_score(y_test, y_pred, average='macro'))\n",
    "print('Accuracy: %.4f' % accuracy_score(y_test, y_pred))\n",
    "print('F1 Score: %.4f' % f1_score(y_test, y_pred, average='macro'))\n",
    "print(classification_report(y_test, y_pred))\n",
    "\n",
    "table = sns.heatmap(confusion_matrix(y_test, y_pred)/np.sum(confusion_matrix(y_test, y_pred), axis=1)[:, np.newaxis], \n",
    "                    annot=True, fmt='.2f', cmap='Blues')\n",
    "\n",
    "table.set_xlabel('\\nPredicted Values')\n",
    "table.set_ylabel('Actual Values')\n",
    "plt.show()\n",
    "\n",
    "scores = cross_val_score(logreg, X_train, y_train, cv=10)\n",
    "best_scores['logreg'] = sorted(scores)[-1]\n",
    "sorted(scores)"
   ]
  },
  {
   "cell_type": "code",
   "execution_count": 58,
   "metadata": {},
   "outputs": [
    {
     "data": {
      "text/plain": [
       "0.7272727272727273"
      ]
     },
     "execution_count": 58,
     "metadata": {},
     "output_type": "execute_result"
    }
   ],
   "source": [
    "best_scores['logreg']"
   ]
  },
  {
   "cell_type": "code",
   "execution_count": 12,
   "metadata": {},
   "outputs": [
    {
     "data": {
      "text/plain": [
       "[0.23809523809523808,\n",
       " 0.23809523809523808,\n",
       " 0.3181818181818182,\n",
       " 0.3181818181818182,\n",
       " 0.3181818181818182,\n",
       " 0.3333333333333333,\n",
       " 0.36363636363636365,\n",
       " 0.38095238095238093,\n",
       " 0.4090909090909091,\n",
       " 0.45454545454545453]"
      ]
     },
     "execution_count": 12,
     "metadata": {},
     "output_type": "execute_result"
    }
   ],
   "source": [
    "class_weights = class_weight.compute_class_weight(class_weight='balanced', classes=np.unique(y_train), y=y_train)\n",
    "class_weights = dict(zip(np.unique(y_train), class_weights))\n",
    "\n",
    "#model = LogisticRegression(class_weight = class_weights, max_iter=1000).fit(X_train, y_train)\n",
    "model=make_pipeline(StandardScaler(), LogisticRegression(class_weight=class_weights)).fit(X_train, y_train)\n",
    "\n",
    "scores = cross_val_score(model, X_train, y_train, cv=10)\n",
    "sorted(scores)"
   ]
  },
  {
   "cell_type": "markdown",
   "metadata": {},
   "source": [
    "## 2- Support Vector Machine"
   ]
  },
  {
   "cell_type": "code",
   "execution_count": 59,
   "metadata": {},
   "outputs": [
    {
     "name": "stderr",
     "output_type": "stream",
     "text": [
      "C:\\Users\\asus\\anaconda3\\lib\\site-packages\\sklearn\\metrics\\_classification.py:1327: UndefinedMetricWarning: Precision is ill-defined and being set to 0.0 in labels with no predicted samples. Use `zero_division` parameter to control this behavior.\n",
      "  _warn_prf(average, modifier, msg_start, len(result))\n",
      "C:\\Users\\asus\\anaconda3\\lib\\site-packages\\sklearn\\metrics\\_classification.py:1327: UndefinedMetricWarning: Precision and F-score are ill-defined and being set to 0.0 in labels with no predicted samples. Use `zero_division` parameter to control this behavior.\n",
      "  _warn_prf(average, modifier, msg_start, len(result))\n",
      "C:\\Users\\asus\\anaconda3\\lib\\site-packages\\sklearn\\metrics\\_classification.py:1327: UndefinedMetricWarning: Precision and F-score are ill-defined and being set to 0.0 in labels with no predicted samples. Use `zero_division` parameter to control this behavior.\n",
      "  _warn_prf(average, modifier, msg_start, len(result))\n",
      "C:\\Users\\asus\\anaconda3\\lib\\site-packages\\sklearn\\metrics\\_classification.py:1327: UndefinedMetricWarning: Precision and F-score are ill-defined and being set to 0.0 in labels with no predicted samples. Use `zero_division` parameter to control this behavior.\n",
      "  _warn_prf(average, modifier, msg_start, len(result))\n"
     ]
    },
    {
     "name": "stdout",
     "output_type": "stream",
     "text": [
      "Precision: 0.2696\n",
      "Recall: 0.3266\n",
      "Accuracy: 0.4364\n",
      "F1 Score: 0.2761\n",
      "              precision    recall  f1-score   support\n",
      "\n",
      "           0       0.17      0.14      0.15         7\n",
      "           1       0.00      0.00      0.00         6\n",
      "           2       0.62      0.62      0.62        26\n",
      "           3       0.32      0.75      0.44         8\n",
      "           4       0.25      0.12      0.17         8\n",
      "\n",
      "    accuracy                           0.44        55\n",
      "   macro avg       0.27      0.33      0.28        55\n",
      "weighted avg       0.39      0.44      0.40        55\n",
      "\n"
     ]
    },
    {
     "data": {
      "image/png": "[encoded data removed]",
      "text/plain": [
       "<Figure size 432x288 with 2 Axes>"
      ]
     },
     "metadata": {
      "needs_background": "light"
     },
     "output_type": "display_data"
    },
    {
     "data": {
      "text/plain": [
       "[0.2727272727272727,\n",
       " 0.2857142857142857,\n",
       " 0.3333333333333333,\n",
       " 0.45454545454545453,\n",
       " 0.45454545454545453,\n",
       " 0.5,\n",
       " 0.5,\n",
       " 0.5238095238095238,\n",
       " 0.5454545454545454,\n",
       " 0.6666666666666666]"
      ]
     },
     "execution_count": 59,
     "metadata": {},
     "output_type": "execute_result"
    }
   ],
   "source": [
    "svm = make_pipeline(MinMaxScaler(), SVC(max_iter=15)).fit(X_train, y_train)\n",
    "y_pred = svm.predict(X_test)\n",
    "\n",
    "print('Precision: %.4f' % precision_score(y_test, y_pred, average='macro'))\n",
    "print('Recall: %.4f' % recall_score(y_test, y_pred, average='macro'))\n",
    "print('Accuracy: %.4f' % accuracy_score(y_test, y_pred))\n",
    "print('F1 Score: %.4f' % f1_score(y_test, y_pred, average='macro'))\n",
    "print(classification_report(y_test, y_pred))\n",
    "\n",
    "table = sns.heatmap(confusion_matrix(y_test, y_pred)/np.sum(confusion_matrix(y_test, y_pred), axis=1)[:, np.newaxis], \n",
    "                    annot=True, fmt='.2f', cmap='Blues')\n",
    "\n",
    "table.set_xlabel('\\nPredicted Values')\n",
    "table.set_ylabel('Actual Values')\n",
    "plt.show()\n",
    "\n",
    "scores = cross_val_score(svm, X_train, y_train, cv=10)\n",
    "best_scores['svm'] = sorted(scores)[-1]\n",
    "sorted(scores)"
   ]
  },
  {
   "cell_type": "markdown",
   "metadata": {},
   "source": [
    "## 3- Stochastic Gradient Descent"
   ]
  },
  {
   "cell_type": "code",
   "execution_count": 60,
   "metadata": {},
   "outputs": [
    {
     "name": "stderr",
     "output_type": "stream",
     "text": [
      "C:\\Users\\asus\\anaconda3\\lib\\site-packages\\sklearn\\metrics\\_classification.py:1327: UndefinedMetricWarning: Precision is ill-defined and being set to 0.0 in labels with no predicted samples. Use `zero_division` parameter to control this behavior.\n",
      "  _warn_prf(average, modifier, msg_start, len(result))\n",
      "C:\\Users\\asus\\anaconda3\\lib\\site-packages\\sklearn\\metrics\\_classification.py:1327: UndefinedMetricWarning: Precision and F-score are ill-defined and being set to 0.0 in labels with no predicted samples. Use `zero_division` parameter to control this behavior.\n",
      "  _warn_prf(average, modifier, msg_start, len(result))\n",
      "C:\\Users\\asus\\anaconda3\\lib\\site-packages\\sklearn\\metrics\\_classification.py:1327: UndefinedMetricWarning: Precision and F-score are ill-defined and being set to 0.0 in labels with no predicted samples. Use `zero_division` parameter to control this behavior.\n",
      "  _warn_prf(average, modifier, msg_start, len(result))\n",
      "C:\\Users\\asus\\anaconda3\\lib\\site-packages\\sklearn\\metrics\\_classification.py:1327: UndefinedMetricWarning: Precision and F-score are ill-defined and being set to 0.0 in labels with no predicted samples. Use `zero_division` parameter to control this behavior.\n",
      "  _warn_prf(average, modifier, msg_start, len(result))\n"
     ]
    },
    {
     "name": "stdout",
     "output_type": "stream",
     "text": [
      "Precision: 0.1202\n",
      "Recall: 0.1865\n",
      "Accuracy: 0.4000\n",
      "F1 Score: 0.1459\n",
      "              precision    recall  f1-score   support\n",
      "\n",
      "           0       0.00      0.00      0.00         7\n",
      "           1       0.00      0.00      0.00         6\n",
      "           2       0.54      0.81      0.65        26\n",
      "           3       0.06      0.12      0.08         8\n",
      "           4       0.00      0.00      0.00         8\n",
      "\n",
      "    accuracy                           0.40        55\n",
      "   macro avg       0.12      0.19      0.15        55\n",
      "weighted avg       0.26      0.40      0.32        55\n",
      "\n"
     ]
    },
    {
     "data": {
      "image/png": "[encoded data removed]",
      "text/plain": [
       "<Figure size 432x288 with 2 Axes>"
      ]
     },
     "metadata": {
      "needs_background": "light"
     },
     "output_type": "display_data"
    },
    {
     "name": "stderr",
     "output_type": "stream",
     "text": [
      "C:\\Users\\asus\\anaconda3\\lib\\site-packages\\sklearn\\linear_model\\_stochastic_gradient.py:705: ConvergenceWarning: Maximum number of iteration reached before convergence. Consider increasing max_iter to improve the fit.\n",
      "  warnings.warn(\n",
      "C:\\Users\\asus\\anaconda3\\lib\\site-packages\\sklearn\\linear_model\\_stochastic_gradient.py:705: ConvergenceWarning: Maximum number of iteration reached before convergence. Consider increasing max_iter to improve the fit.\n",
      "  warnings.warn(\n",
      "C:\\Users\\asus\\anaconda3\\lib\\site-packages\\sklearn\\linear_model\\_stochastic_gradient.py:705: ConvergenceWarning: Maximum number of iteration reached before convergence. Consider increasing max_iter to improve the fit.\n",
      "  warnings.warn(\n",
      "C:\\Users\\asus\\anaconda3\\lib\\site-packages\\sklearn\\linear_model\\_stochastic_gradient.py:705: ConvergenceWarning: Maximum number of iteration reached before convergence. Consider increasing max_iter to improve the fit.\n",
      "  warnings.warn(\n"
     ]
    },
    {
     "data": {
      "text/plain": [
       "[0.14285714285714285,\n",
       " 0.2727272727272727,\n",
       " 0.3181818181818182,\n",
       " 0.3181818181818182,\n",
       " 0.45454545454545453,\n",
       " 0.45454545454545453,\n",
       " 0.5238095238095238,\n",
       " 0.5714285714285714,\n",
       " 0.6818181818181818,\n",
       " 0.7142857142857143]"
      ]
     },
     "execution_count": 60,
     "metadata": {},
     "output_type": "execute_result"
    }
   ],
   "source": [
    "sgd = SGDClassifier(loss=\"hinge\", penalty=\"l2\", shuffle=False, max_iter=90).fit(X_train, y_train)\n",
    "#sgd = make_pipeline(StandardScaler(), SGDClassifier(max_iter=90, tol=1e-3)).fit(X_train, y_train)\n",
    "\n",
    "y_pred = sgd.predict(X_test)\n",
    "\n",
    "print('Precision: %.4f' % precision_score(y_test, y_pred, average='macro'))\n",
    "print('Recall: %.4f' % recall_score(y_test, y_pred, average='macro'))\n",
    "print('Accuracy: %.4f' % accuracy_score(y_test, y_pred))\n",
    "print('F1 Score: %.4f' % f1_score(y_test, y_pred, average='macro'))\n",
    "print(classification_report(y_test, y_pred))\n",
    "\n",
    "table = sns.heatmap(confusion_matrix(y_test, y_pred)/np.sum(confusion_matrix(y_test, y_pred), axis=1)[:, np.newaxis], \n",
    "                    annot=True, fmt='.2f', cmap='Blues')\n",
    "\n",
    "table.set_xlabel('\\nPredicted Values')\n",
    "table.set_ylabel('Actual Values')\n",
    "plt.show()\n",
    "\n",
    "scores = cross_val_score(sgd, X_train, y_train, cv=10)\n",
    "best_scores['sgd'] = sorted(scores)[-1]\n",
    "sorted(scores)"
   ]
  },
  {
   "cell_type": "markdown",
   "metadata": {},
   "source": [
    "## 4- Naive Bayes"
   ]
  },
  {
   "cell_type": "code",
   "execution_count": 61,
   "metadata": {},
   "outputs": [
    {
     "name": "stdout",
     "output_type": "stream",
     "text": [
      "Precision: 0.3987\n",
      "Recall: 0.2523\n",
      "Accuracy: 0.3636\n",
      "F1 Score: 0.2640\n",
      "              precision    recall  f1-score   support\n",
      "\n",
      "           0       0.14      0.14      0.14         7\n",
      "           1       1.00      0.17      0.29         6\n",
      "           2       0.48      0.58      0.53        26\n",
      "           3       0.20      0.25      0.22         8\n",
      "           4       0.17      0.12      0.14         8\n",
      "\n",
      "    accuracy                           0.36        55\n",
      "   macro avg       0.40      0.25      0.26        55\n",
      "weighted avg       0.41      0.36      0.35        55\n",
      "\n"
     ]
    },
    {
     "data": {
      "image/png": "[encoded data removed]",
      "text/plain": [
       "<Figure size 432x288 with 2 Axes>"
      ]
     },
     "metadata": {
      "needs_background": "light"
     },
     "output_type": "display_data"
    },
    {
     "data": {
      "text/plain": [
       "[0.38095238095238093,\n",
       " 0.4090909090909091,\n",
       " 0.42857142857142855,\n",
       " 0.45454545454545453,\n",
       " 0.5,\n",
       " 0.5,\n",
       " 0.5454545454545454,\n",
       " 0.5714285714285714,\n",
       " 0.5909090909090909,\n",
       " 0.6190476190476191]"
      ]
     },
     "execution_count": 61,
     "metadata": {},
     "output_type": "execute_result"
    }
   ],
   "source": [
    "gnb = GaussianNB().fit(X_train, y_train)\n",
    "y_pred = gnb.predict(X_test)\n",
    "\n",
    "print('Precision: %.4f' % precision_score(y_test, y_pred, average='macro'))\n",
    "print('Recall: %.4f' % recall_score(y_test, y_pred, average='macro'))\n",
    "print('Accuracy: %.4f' % accuracy_score(y_test, y_pred))\n",
    "print('F1 Score: %.4f' % f1_score(y_test, y_pred, average='macro'))\n",
    "print(classification_report(y_test, y_pred))\n",
    "\n",
    "table = sns.heatmap(confusion_matrix(y_test, y_pred)/np.sum(confusion_matrix(y_test, y_pred), axis=1)[:, np.newaxis], \n",
    "                    annot=True, fmt='.2f', cmap='Blues')\n",
    "\n",
    "table.set_xlabel('\\nPredicted Values')\n",
    "table.set_ylabel('Actual Values')\n",
    "plt.show()\n",
    "\n",
    "scores = cross_val_score(gnb, X_train, y_train, cv=10)\n",
    "best_scores['gnb'] = sorted(scores)[-1]\n",
    "sorted(scores)"
   ]
  },
  {
   "cell_type": "markdown",
   "metadata": {},
   "source": [
    "## 5- K-Nearest Neighbor"
   ]
  },
  {
   "cell_type": "code",
   "execution_count": 62,
   "metadata": {},
   "outputs": [
    {
     "name": "stdout",
     "output_type": "stream",
     "text": [
      "Precision: 0.3987\n",
      "Recall: 0.2523\n",
      "Accuracy: 0.3636\n",
      "F1 Score: 0.2640\n",
      "              precision    recall  f1-score   support\n",
      "\n",
      "           0       0.14      0.14      0.14         7\n",
      "           1       1.00      0.17      0.29         6\n",
      "           2       0.48      0.58      0.53        26\n",
      "           3       0.20      0.25      0.22         8\n",
      "           4       0.17      0.12      0.14         8\n",
      "\n",
      "    accuracy                           0.36        55\n",
      "   macro avg       0.40      0.25      0.26        55\n",
      "weighted avg       0.41      0.36      0.35        55\n",
      "\n"
     ]
    },
    {
     "data": {
      "image/png": "[encoded data removed]",
      "text/plain": [
       "<Figure size 432x288 with 2 Axes>"
      ]
     },
     "metadata": {
      "needs_background": "light"
     },
     "output_type": "display_data"
    },
    {
     "data": {
      "text/plain": [
       "[0.38095238095238093,\n",
       " 0.45454545454545453,\n",
       " 0.45454545454545453,\n",
       " 0.5,\n",
       " 0.5238095238095238,\n",
       " 0.5454545454545454,\n",
       " 0.5714285714285714,\n",
       " 0.5909090909090909,\n",
       " 0.5909090909090909,\n",
       " 0.6666666666666666]"
      ]
     },
     "execution_count": 62,
     "metadata": {},
     "output_type": "execute_result"
    }
   ],
   "source": [
    "knn = KNeighborsClassifier(n_neighbors=6).fit(X_train, y_train)\n",
    "\n",
    "y_pred = gnb.predict(X_test)\n",
    "\n",
    "print('Precision: %.4f' % precision_score(y_test, y_pred, average='macro'))\n",
    "print('Recall: %.4f' % recall_score(y_test, y_pred, average='macro'))\n",
    "print('Accuracy: %.4f' % accuracy_score(y_test, y_pred))\n",
    "print('F1 Score: %.4f' % f1_score(y_test, y_pred, average='macro'))\n",
    "print(classification_report(y_test, y_pred))\n",
    "\n",
    "table = sns.heatmap(confusion_matrix(y_test, y_pred)/np.sum(confusion_matrix(y_test, y_pred), axis=1)[:, np.newaxis], \n",
    "                    annot=True, fmt='.2f', cmap='Blues')\n",
    "\n",
    "table.set_xlabel('\\nPredicted Values')\n",
    "table.set_ylabel('Actual Values')\n",
    "plt.show()\n",
    "\n",
    "scores = cross_val_score(knn, X_train, y_train, cv=10)\n",
    "best_scores['knn'] = sorted(scores)[-1]\n",
    "sorted(scores)"
   ]
  },
  {
   "cell_type": "code",
   "execution_count": 66,
   "metadata": {},
   "outputs": [
    {
     "data": {
      "text/plain": [
       "{'logreg': 0.7272727272727273,\n",
       " 'svm': 0.6666666666666666,\n",
       " 'sgd': 0.7142857142857143,\n",
       " 'gnb': 0.6190476190476191,\n",
       " 'knn': 0.6666666666666666}"
      ]
     },
     "execution_count": 66,
     "metadata": {},
     "output_type": "execute_result"
    }
   ],
   "source": [
    "best_scores"
   ]
  },
  {
   "cell_type": "code",
   "execution_count": 64,
   "metadata": {},
   "outputs": [
    {
     "data": {
      "image/png": "[encoded data removed]",
      "text/plain": [
       "<Figure size 720x360 with 1 Axes>"
      ]
     },
     "metadata": {
      "needs_background": "light"
     },
     "output_type": "display_data"
    }
   ],
   "source": [
    "models = list(best_scores.keys())\n",
    "scores = list(best_scores.values())\n",
    "  \n",
    "fig = plt.figure(figsize = (10, 5))\n",
    " \n",
    "plt.bar(models, scores, color ='maroon', width = 0.3)\n",
    " \n",
    "plt.xlabel(\"Model\")\n",
    "plt.ylabel(\"Score\")\n",
    "plt.title(\"Scores of Models\")\n",
    "plt.show()"
   ]
  },
  {
   "cell_type": "code",
   "execution_count": 32,
   "metadata": {},
   "outputs": [
    {
     "data": {
      "image/png": "[encoded data removed]",
      "text/plain": [
       "<Figure size 1008x648 with 12 Axes>"
      ]
     },
     "metadata": {
      "needs_background": "light"
     },
     "output_type": "display_data"
    }
   ],
   "source": [
    "df.hist(alpha=0.5, figsize=(14, 9), bins = 10)\n",
    "pyplot.show()"
   ]
  },
  {
   "cell_type": "code",
   "execution_count": null,
   "metadata": {},
   "outputs": [],
   "source": [
    "# Gaussian: age, openness, extraversion, regularity, patience\n",
    "# Non-Gaussian: gender, responsibility, neuroticism, honesty, compatibility, element\n",
    "\n",
    "from sklearn.compose import ColumnTransformer\n",
    "from sklearn.pipeline import Pipeline\n",
    "\n",
    "Normalize_Var = ['age', 'openness', 'extraversion', 'regularity', 'patience']\n",
    "Normalize_transformer = Pipeline(steps=[('norm', MinMaxScaler())])\n",
    "\n",
    "Standardize_Var = ['gender', 'responsibility', 'neuroticism', 'honesty', 'compatibility']\n",
    "Standardize_transformer = Pipeline(steps=[('standard', StandardScaler())])\n"
   ]
  },
  {
   "cell_type": "code",
   "execution_count": null,
   "metadata": {},
   "outputs": [],
   "source": [
    "preprocessor = ColumnTransformer(transformers = [('standard', Standardize_transformer, Standardize_Var), ('norm', Normalize_transformer, Normalize_Var)])\n",
    "\n",
    "#clf = Pipeline(steps=[('preprocessor', preprocessor), ('classifier', LogisticRegression(solver='lbfgs'))]).fit(X_train, y_train)\n",
    "clf = Pipeline(steps=[('preprocessor', preprocessor), ('sgd', SGDClassifier(loss=\"hinge\", penalty=\"l2\", shuffle=False, max_iter=100))]).fit(X_train, y_train)\n",
    "\n",
    "y_pred = clf.predict(X_test)\n",
    "\n",
    "print('Precision: %.4f' % precision_score(y_test, y_pred, average='macro'))\n",
    "print('Recall: %.4f' % recall_score(y_test, y_pred, average='macro'))\n",
    "print('Accuracy: %.4f' % accuracy_score(y_test, y_pred))\n",
    "print('F1 Score: %.4f' % f1_score(y_test, y_pred, average='macro'))\n",
    "print(classification_report(y_test, y_pred))\n",
    "\n",
    "table = sns.heatmap(confusion_matrix(y_test, y_pred)/np.sum(confusion_matrix(y_test, y_pred), axis=1)[:, np.newaxis], \n",
    "                    annot=True, fmt='.2f', cmap='Blues')\n",
    "\n",
    "table.set_xlabel('\\nPredicted Values')\n",
    "table.set_ylabel('Actual Values')\n",
    "plt.show()\n",
    "\n",
    "scores = cross_val_score(clf, X_train, y_train, cv=10)\n",
    "sorted(scores)\n",
    "#print('Accuracy after standardizing Gaussian distributed features and normalizing Non-Gaussian features: {:.2f}'.format(clf.score(X_test, y_test)))"
   ]
  },
  {
   "cell_type": "code",
   "execution_count": null,
   "metadata": {},
   "outputs": [],
   "source": []
  }
 ],
 "metadata": {
  "kernelspec": {
   "display_name": "Python 3",
   "language": "python",
   "name": "python3"
  },
  "language_info": {
   "codemirror_mode": {
    "name": "ipython",
    "version": 3
   },
   "file_extension": ".py",
   "mimetype": "text/x-python",
   "name": "python",
   "nbconvert_exporter": "python",
   "pygments_lexer": "ipython3",
   "version": "3.8.5"
  }
 },
 "nbformat": 4,
 "nbformat_minor": 4
}
